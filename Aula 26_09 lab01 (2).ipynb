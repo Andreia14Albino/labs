{
 "cells": [
  {
   "cell_type": "code",
   "execution_count": 2,
   "metadata": {},
   "outputs": [
    {
     "data": {
      "text/plain": [
       "True"
      ]
     },
     "execution_count": 2,
     "metadata": {},
     "output_type": "execute_result"
    }
   ],
   "source": [
    "\"\"\" Verify if a value is integer \"\"\"\n",
    "n = 1000\n",
    "n == int(n)"
   ]
  },
  {
   "cell_type": "code",
   "execution_count": 3,
   "metadata": {},
   "outputs": [
    {
     "data": {
      "text/plain": [
       "True"
      ]
     },
     "execution_count": 3,
     "metadata": {},
     "output_type": "execute_result"
    }
   ],
   "source": [
    "\"\"\" Verify if a value is even \"\"\"\n",
    "n = 6\n",
    "n % 2 == 0"
   ]
  },
  {
   "cell_type": "code",
   "execution_count": 4,
   "metadata": {},
   "outputs": [
    {
     "data": {
      "text/plain": [
       "True"
      ]
     },
     "execution_count": 4,
     "metadata": {},
     "output_type": "execute_result"
    }
   ],
   "source": [
    "\"\"\" Insert two numbers. Is the first is bigger than the second? \"\"\"\n",
    "n = 4\n",
    "m = 2\n",
    "n > m"
   ]
  },
  {
   "cell_type": "code",
   "execution_count": 5,
   "metadata": {},
   "outputs": [
    {
     "data": {
      "text/plain": [
       "True"
      ]
     },
     "execution_count": 5,
     "metadata": {},
     "output_type": "execute_result"
    }
   ],
   "source": [
    " \"\"\" Verify if one value is multiple of another \"\"\"\n",
    "n = 6\n",
    "m = 2\n",
    "n/m == int(n/m) or m/n == int(m/n)"
   ]
  },
  {
   "cell_type": "code",
   "execution_count": 6,
   "metadata": {},
   "outputs": [
    {
     "name": "stdout",
     "output_type": "stream",
     "text": [
      "18.0\n"
     ]
    }
   ],
   "source": [
    "\"\"\" Calculate the interest earn by an investor that invested a capital of 200 during 3 years with an interest rate of 3%. (I=\n",
    "P*R*T) \"\"\"\n",
    "capital = 200\n",
    "time = 3\n",
    "r = 0.03\n",
    "interestearn = capital * time * r\n",
    "print(interestearn)"
   ]
  },
  {
   "cell_type": "code",
   "execution_count": 7,
   "metadata": {},
   "outputs": [
    {
     "name": "stdout",
     "output_type": "stream",
     "text": [
      "218.5454\n"
     ]
    }
   ],
   "source": [
    "\"\"\" Capital that an investor obtained after investing a capital of 200 during 3 years with an interest rate of 3%. (Compound\n",
    "interest) \"\"\"\n",
    "capital = 200\n",
    "time = 3\n",
    "r = 0.03\n",
    "interestearn = capital * (1+r)**time\n",
    "print(interestearn)"
   ]
  },
  {
   "cell_type": "code",
   "execution_count": 8,
   "metadata": {},
   "outputs": [
    {
     "name": "stdout",
     "output_type": "stream",
     "text": [
      "21.04804761213529\n"
     ]
    }
   ],
   "source": [
    "\"\"\" Calculate your BMI (Body Mass Index) \"\"\"\n",
    "mass = 58\n",
    "height = 1.66\n",
    "BMI = mass/(height**2)\n",
    "print(BMI)"
   ]
  },
  {
   "cell_type": "code",
   "execution_count": 9,
   "metadata": {},
   "outputs": [
    {
     "name": "stdout",
     "output_type": "stream",
     "text": [
      "1.618033988749895\n"
     ]
    }
   ],
   "source": [
    "\"\"\" Calcule the Golden ration: \"\"\"\n",
    "gr = (1+(5)**(1/2))/2\n",
    "print(gr)"
   ]
  },
  {
   "cell_type": "code",
   "execution_count": 10,
   "metadata": {},
   "outputs": [
    {
     "name": "stdout",
     "output_type": "stream",
     "text": [
      "1.618033988749895\n"
     ]
    }
   ],
   "source": [
    "\"\"\" Calcule the Golden ration: with library\"\"\"\n",
    "import math\n",
    "gr = (1+math.sqrt(5))/2\n",
    "print(gr)"
   ]
  },
  {
   "cell_type": "code",
   "execution_count": 11,
   "metadata": {},
   "outputs": [
    {
     "name": "stdout",
     "output_type": "stream",
     "text": [
      "3139.440301519393\n"
     ]
    }
   ],
   "source": [
    "\"\"\" Calculete the NPV (Net present value) of an investment, considering an initial investment of 10000, the following Cashflows\n",
    "2000, 3000, 4000, 4000 and 5000 and a discount rate of 10%.\"\"\"\n",
    "I = 10000\n",
    "k = 0.1\n",
    "Fv1 = 2000\n",
    "Fv2 = 3000\n",
    "Fv3 = 4000\n",
    "Fv4 = 4000\n",
    "Fv5 = 5000\n",
    "NPV = Fv1/(1+k) + Fv2/(1+k)**2 + Fv3/(1+k)**3 + Fv4/(1+k)**4 + Fv5/(1+k)**5 - I\n",
    "print(NPV)"
   ]
  },
  {
   "cell_type": "code",
   "execution_count": 16,
   "metadata": {},
   "outputs": [
    {
     "name": "stdout",
     "output_type": "stream",
     "text": [
      "Enter your age 23\n",
      "Enter your name Andreia\n",
      "This person was born in 1996\n"
     ]
    }
   ],
   "source": [
    "\"\"\" Ask the user to insert name and age. Calculate the the birth. Print a result saying the 'this person was born in'\n",
    "\"\"\"\n",
    "age = input(\"Enter your age \")\n",
    "name = input(\"Enter your name \")\n",
    "year = 2019\n",
    "birth = year - int(age)\n",
    "print (\"This person was born in \" + str(birth) )"
   ]
  },
  {
   "cell_type": "code",
   "execution_count": 22,
   "metadata": {},
   "outputs": [
    {
     "name": "stdout",
     "output_type": "stream",
     "text": [
      "Enter your age 23\n",
      "Enter your name Andreia\n",
      "This person was born in 1996\n"
     ]
    }
   ],
   "source": [
    "from datetime import date\n",
    "today = date.today()\n",
    "today.year\n",
    "age = input(\"Enter your age \")\n",
    "name = input(\"Enter your name \")\n",
    "birth = today.year - int(age)\n",
    "print (\"This person was born in \" + str(birth) )"
   ]
  },
  {
   "cell_type": "code",
   "execution_count": 26,
   "metadata": {},
   "outputs": [
    {
     "name": "stdout",
     "output_type": "stream",
     "text": [
      "Enter your forenames Andreia Filipa\n",
      "Enter your surnames Martins Albino\n",
      "Andreia filipa martins albino\n",
      "Andreia Filipa Martins Albino\n",
      "andreia filipa martins albino\n",
      "ANDREIA FILIPA MARTINS ALBINO\n"
     ]
    }
   ],
   "source": [
    "\"\"\"Ask the user to insert forenames, surnames. create a new variable (name) with your complete name.\"\"\"\n",
    "forenames = input(\"Enter your forenames \")\n",
    "surnames = input(\"Enter your surnames \")\n",
    "name = str(forenames)+ \" \" + str(surnames)\n",
    "nameCapitalized = name.capitalize()\n",
    "nameTitle = name.title()\n",
    "nameSmall = name.lower()\n",
    "nameBig = name.upper()\n",
    "print(nameCapitalized)\n",
    "print(nameTitle)\n",
    "print(nameSmall)\n",
    "print(nameBig)"
   ]
  },
  {
   "cell_type": "code",
   "execution_count": 27,
   "metadata": {},
   "outputs": [
    {
     "data": {
      "text/plain": [
       "8"
      ]
     },
     "execution_count": 27,
     "metadata": {},
     "output_type": "execute_result"
    }
   ],
   "source": [
    "random = \"vhfeoivedaofe\"\n",
    "\n",
    "str.find(random,\"da\")"
   ]
  },
  {
   "cell_type": "code",
   "execution_count": null,
   "metadata": {},
   "outputs": [],
   "source": []
  }
 ],
 "metadata": {
  "kernelspec": {
   "display_name": "Python 3",
   "language": "python",
   "name": "python3"
  },
  "language_info": {
   "codemirror_mode": {
    "name": "ipython",
    "version": 3
   },
   "file_extension": ".py",
   "mimetype": "text/x-python",
   "name": "python",
   "nbconvert_exporter": "python",
   "pygments_lexer": "ipython3",
   "version": "3.7.3"
  }
 },
 "nbformat": 4,
 "nbformat_minor": 2
}
